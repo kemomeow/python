{
  "nbformat": 4,
  "nbformat_minor": 0,
  "metadata": {
    "colab": {
      "provenance": [],
      "authorship_tag": "ABX9TyPabbdzDyQjDAHPmsRM+9bf",
      "include_colab_link": true
    },
    "kernelspec": {
      "name": "python3",
      "display_name": "Python 3"
    },
    "language_info": {
      "name": "python"
    }
  },
  "cells": [
    {
      "cell_type": "markdown",
      "metadata": {
        "id": "view-in-github",
        "colab_type": "text"
      },
      "source": [
        "<a href=\"https://colab.research.google.com/github/kemomeow/python/blob/main/%D0%97%D0%B0%D0%B1%D0%BE%D0%BB%D0%BE%D1%82%D0%BD%D1%8B%D0%B9_%D0%9C%D0%B0%D1%82%D0%B2%D0%B5%D0%B9_204_%D0%BE%D0%B8%D0%B1.ipynb\" target=\"_parent\"><img src=\"https://colab.research.google.com/assets/colab-badge.svg\" alt=\"Open In Colab\"/></a>"
      ]
    },
    {
      "cell_type": "markdown",
      "source": [
        "# Введение "
      ],
      "metadata": {
        "id": "SxVA3blP8vr8"
      }
    },
    {
      "cell_type": "code",
      "source": [
        "print(\"*****************\")\n",
        "print(\"*               *\")\n",
        "print(\"*               *\")\n",
        "print(\"*****************\")"
      ],
      "metadata": {
        "colab": {
          "base_uri": "https://localhost:8080/"
        },
        "id": "YybzKm6V80i-",
        "outputId": "7e818e4b-4a54-40e0-e678-93bb2c5b0054"
      },
      "execution_count": 1,
      "outputs": [
        {
          "output_type": "stream",
          "name": "stdout",
          "text": [
            "*****************\n",
            "*               *\n",
            "*               *\n",
            "*****************\n"
          ]
        }
      ]
    },
    {
      "cell_type": "code",
      "source": [
        "print(\"Введите числа:\")\n",
        "a=int(input())\n",
        "b=int(input())\n",
        "num1=(a+b)**2\n",
        "num2=a**2+b**2\n",
        "print(\"Квадрат суммы:\", num1)\n",
        "print(\"Сумма квадратов:\", num2)"
      ],
      "metadata": {
        "colab": {
          "base_uri": "https://localhost:8080/"
        },
        "id": "S23OEw4m86Lk",
        "outputId": "d2d6f663-29c4-4e91-9861-f9e8ff5fb071"
      },
      "execution_count": 3,
      "outputs": [
        {
          "output_type": "stream",
          "name": "stdout",
          "text": [
            "Введите числа:\n",
            "1\n",
            "2\n",
            "Квадрат суммы: 9\n",
            "Сумма квадратов: 5\n"
          ]
        }
      ]
    },
    {
      "cell_type": "code",
      "source": [
        "print(\"Введите числа:\")\n",
        "a=int(input())\n",
        "b=int(input())\n",
        "c=int(input())\n",
        "d=int(input())\n",
        "num1=a**c+b**d\n",
        "print(\"Значение выражения:\", num1)"
      ],
      "metadata": {
        "id": "a3ou0pYV9LlS"
      },
      "execution_count": null,
      "outputs": []
    },
    {
      "cell_type": "code",
      "source": [
        "word = input()\n",
        "if word == 'Python':\n",
        "    print('ДА')\n",
        "else:\n",
        "    print('НЕТ')"
      ],
      "metadata": {
        "id": "VWpjKhu99Pbq"
      },
      "execution_count": null,
      "outputs": []
    },
    {
      "cell_type": "code",
      "source": [
        "num = int(input())\n",
        "last_digit = num % 10\n",
        "first_digit = num // 10\n",
        "if last_digit == first_digit:\n",
        "    print('ДА')\n",
        "else:\n",
        "    print('НЕТ')\n"
      ],
      "metadata": {
        "id": "44R7wj879Rr0"
      },
      "execution_count": null,
      "outputs": []
    },
    {
      "cell_type": "code",
      "source": [
        "num1, num2, num3 = int(input()), int(input()), int(input())\n",
        "counter = 0  # переменная счётчик\n",
        "if num1 % 2 == 0:\n",
        "    counter = counter + 1  # увеличиваем счётчик на 1\n",
        "if num2 % 2 == 0:\n",
        "    counter = counter + 1  # увеличиваем счётчик на 1\n",
        "if num3 % 2 == 0:\n",
        "    counter = counter + 1  # увеличиваем счётчик на 1\n",
        "print(counter)"
      ],
      "metadata": {
        "id": "kyF2hzjr9XB6"
      },
      "execution_count": null,
      "outputs": []
    },
    {
      "cell_type": "markdown",
      "source": [
        "# 03.10.22"
      ],
      "metadata": {
        "id": "b267vrUa9giB"
      }
    },
    {
      "cell_type": "code",
      "source": [
        "age = int(input('Сколько вам лет?: '))\n",
        "grade = int(input('В каком классе вы учитесь?: '))\n",
        "if age >= 12 and grade >= 7:\n",
        "    print('Доступ разрешен.')\n",
        "else:\n",
        "    print('Доступ запрещен.')"
      ],
      "metadata": {
        "id": "cuJ15M469n1p"
      },
      "execution_count": null,
      "outputs": []
    },
    {
      "cell_type": "code",
      "source": [
        "age = int(input('Сколько вам лет?: '))\n",
        "grade = int(input('В каком классе вы учитесь?: '))\n",
        "city = input('В каком городе вы живете?: ')\n",
        "if age >= 12 and grade >= 7 and city == 'Москва':\n",
        "    print('Доступ разрешен.')\n",
        "else:\n",
        "    print('Доступ запрещен.')"
      ],
      "metadata": {
        "id": "9fDDNNFs963o"
      },
      "execution_count": null,
      "outputs": []
    },
    {
      "cell_type": "code",
      "source": [
        "city = input('В каком городе вы живете?: ')\n",
        "if city == 'Москва' or city == 'Санкт-Петербург' or city == 'Екатеринбург':\n",
        "  print('Доступ разрешен.')\n",
        "else:\n",
        "  print('Доступ запрещен.')"
      ],
      "metadata": {
        "id": "VYCwUDhZ99e4"
      },
      "execution_count": null,
      "outputs": []
    },
    {
      "cell_type": "code",
      "source": [
        "age = int(input('Сколько вам лет?: '))\n",
        "grade = int(input('В каком классе вы учитесь?: '))\n",
        "city = input('В каком городе вы живете?: ')\n",
        "if age >= 12 and grade >= 7 and (city == 'Москва' or city == 'Санкт-Петербург'):\n",
        "    print('Доступ разрешен.')\n",
        "else:\n",
        "    print('Доступ запрещен.')"
      ],
      "metadata": {
        "id": "Q--mPkvK-A0J"
      },
      "execution_count": null,
      "outputs": []
    },
    {
      "cell_type": "code",
      "source": [
        "age = int(input('Сколько вам лет?: '))\n",
        "if not (age < 12):\n",
        "    print('Доступ разрешен.')\n",
        "else:\n",
        "    print('Доступ запрещен.')"
      ],
      "metadata": {
        "id": "4UGHRwSv-Cnh"
      },
      "execution_count": null,
      "outputs": []
    },
    {
      "cell_type": "markdown",
      "source": [
        "# 19.10.2022"
      ],
      "metadata": {
        "id": "CDYqzv0P-G9w"
      }
    },
    {
      "cell_type": "code",
      "source": [
        "print('A')\n",
        "print('B')\n",
        "for i in range(5):\n",
        "  print('C')\n",
        "for i in range(5):\n",
        "  print('D')\n",
        "print('E')"
      ],
      "metadata": {
        "id": "b7Wl1W2U-dkp"
      },
      "execution_count": null,
      "outputs": []
    },
    {
      "cell_type": "code",
      "source": [
        "for i in range(10):\n",
        "  print('Python is awesome!')"
      ],
      "metadata": {
        "id": "MxpRJgNy-qjL"
      },
      "execution_count": null,
      "outputs": []
    },
    {
      "cell_type": "code",
      "source": [
        "for i in range(10):\n",
        "  print('Век живи - век учись')"
      ],
      "metadata": {
        "id": "Tzaf67Cb-tKJ"
      },
      "execution_count": null,
      "outputs": []
    },
    {
      "cell_type": "code",
      "source": [
        "n = int(input())\n",
        "for i in range(n):\n",
        "    print('*' * 19)"
      ],
      "metadata": {
        "id": "zwH5IJgI-02n"
      },
      "execution_count": null,
      "outputs": []
    },
    {
      "cell_type": "code",
      "source": [
        "for i in range(10):\n",
        "  print(i)"
      ],
      "metadata": {
        "id": "KXpe9ITE-5qH"
      },
      "execution_count": null,
      "outputs": []
    },
    {
      "cell_type": "code",
      "source": [
        "for i in range(10):\n",
        "  print(i+1,'--Привет')"
      ],
      "metadata": {
        "id": "dLezdGVL-7QQ"
      },
      "execution_count": null,
      "outputs": []
    },
    {
      "cell_type": "code",
      "source": [
        "for _ in range(5):\n",
        "  print('Python - awesome!')"
      ],
      "metadata": {
        "id": "H_JBA6qy-87f"
      },
      "execution_count": null,
      "outputs": []
    },
    {
      "cell_type": "code",
      "source": [
        "for i in range(10):\n",
        "  print(i, 'привет')"
      ],
      "metadata": {
        "id": "kOe1paDn--n4"
      },
      "execution_count": null,
      "outputs": []
    },
    {
      "cell_type": "code",
      "source": [
        "n = int(input())\n",
        "for i in range(1, n + 1):\n",
        "  sq = i ** 2\n",
        "  print(f'Квадрат числа {i} равен {sq}')"
      ],
      "metadata": {
        "id": "_vhyOvUL-_ZH"
      },
      "execution_count": null,
      "outputs": []
    },
    {
      "cell_type": "code",
      "source": [
        "rows = int(input(\"Введите кол-во строк: \"))\n",
        "for x in range(rows):\n",
        "  print((x + 1) * '*')"
      ],
      "metadata": {
        "id": "Ff9iaVja_BOX"
      },
      "execution_count": null,
      "outputs": []
    },
    {
      "cell_type": "markdown",
      "source": [
        "# 27.10.2022"
      ],
      "metadata": {
        "id": "f0EwONTV_DxY"
      }
    },
    {
      "cell_type": "code",
      "source": [
        "num = int(input())\n",
        "while num != -1:\n",
        "    print('Квадрат вашего числа равен:', num * num)\n",
        "    num = int(input())"
      ],
      "metadata": {
        "id": "YzXjpPwv_HSf"
      },
      "execution_count": null,
      "outputs": []
    },
    {
      "cell_type": "code",
      "source": [
        "i = 0\n",
        "total = 0\n",
        "while i < 10:\n",
        "  total += i"
      ],
      "metadata": {
        "id": "GltcS6By_KfQ"
      },
      "execution_count": null,
      "outputs": []
    },
    {
      "cell_type": "code",
      "source": [
        "count = 10\n",
        "while count < 1:\n",
        "  print('Python awesome!')"
      ],
      "metadata": {
        "id": "LdHHVUc7_MV2"
      },
      "execution_count": null,
      "outputs": []
    },
    {
      "cell_type": "code",
      "source": [
        "count = 1\n",
        "while count < 10:\n",
        "  print('Python awesome!')\n",
        "  count += 1"
      ],
      "metadata": {
        "id": "TLmWv5Z1_OqO"
      },
      "execution_count": null,
      "outputs": []
    },
    {
      "cell_type": "code",
      "source": [
        "i = 5\n",
        "while i <= 11:\n",
        "  print('Python awesome!')\n",
        "  i += 1"
      ],
      "metadata": {
        "id": "6DDdc1qd_Qn2"
      },
      "execution_count": null,
      "outputs": []
    },
    {
      "cell_type": "code",
      "source": [
        "i = 7\n",
        "a = 5\n",
        "while i < 11:\n",
        "    a += i\n",
        "    i += 2\n",
        "print(a)"
      ],
      "metadata": {
        "id": "26DmxQ7F_TLm"
      },
      "execution_count": null,
      "outputs": []
    },
    {
      "cell_type": "markdown",
      "source": [
        "На вход программе подается последовательность слов, каждое слово на отдельной строке концом последовательности является слово конец(без кавычек), напишите программу которая выводит члены данной последовательности. Sample input:Текст, выделенный полужирным шрифтом"
      ],
      "metadata": {
        "id": "MdTDdlYX_T2F"
      }
    },
    {
      "cell_type": "code",
      "source": [
        "text = input()\n",
        "while text!='КОНЕЦ':\n",
        "    print(text)\n",
        "    text = input()"
      ],
      "metadata": {
        "id": "ntuQjrCs_YON"
      },
      "execution_count": null,
      "outputs": []
    },
    {
      "cell_type": "markdown",
      "source": [
        "**Количество членов**\n",
        "\n",
        "На вход программе подается последовательность слов, каждое слово на отдельной строке. Концом последовательности является одно из трех слов: «стоп», «хватит», «достаточно» (маленькими буквами, без кавычек). Напишите программу, которая выводит общее количество членов данной последовательности.\n",
        "\n",
        "Формат входных данных На вход программе подается последовательность слов, каждое слово на отдельной строке. Формат выходных данных Программа должна вывести общее количество членов данной последовательности."
      ],
      "metadata": {
        "id": "DVfdzJ09_aIw"
      }
    },
    {
      "cell_type": "code",
      "source": [
        "text = input()\n",
        "total = 0\n",
        "while text!='стоп' and text!='хватит' and text!='достаточно':\n",
        "    total += 1\n",
        "    text = input()\n",
        "print(total)    "
      ],
      "metadata": {
        "id": "iBsE1Op5_e4u"
      },
      "execution_count": null,
      "outputs": []
    },
    {
      "cell_type": "markdown",
      "source": [
        "**Пока делимся**\n",
        "\n",
        "На вход программе подается последовательность целых чисел делящихся на 7, каждое число на отдельной строке. Концом последовательности является любое число не делящееся на 7. Напишите программу, которая выводит члены данной последовательности.\n",
        "\n",
        "Формат входных данных На вход программе подается последовательность чисел, каждое число на отдельной строке. Формат выходных данных Программа должна вывести члены данной последовательности."
      ],
      "metadata": {
        "id": "Djq84nEq_iTm"
      }
    },
    {
      "cell_type": "code",
      "source": [
        "x = int(input())\n",
        "while x % 7 == 0:\n",
        "    print(x)\n",
        "    x = int(input())"
      ],
      "metadata": {
        "id": "DLDu9q5N_jh2"
      },
      "execution_count": null,
      "outputs": []
    },
    {
      "cell_type": "markdown",
      "source": [
        "**Сумма чисел**\n",
        "\n",
        "На вход программе подается последовательность целых чисел, каждое число на отдельной строке. Концом последовательности является любое отрицательное число. Напишите программу, которая выводит сумму всех членов данной последовательности.\n",
        "\n",
        "Формат входных данных На вход программе подается последовательность чисел, каждое число на отдельной строке. Формат выходных данных Программа должна вывести сумму членов данной последовательности."
      ],
      "metadata": {
        "id": "bDR1MM5D_lQW"
      }
    },
    {
      "cell_type": "code",
      "source": [
        "a = int(input())\n",
        "num = 0\n",
        "while a>=0:\n",
        "    num += a\n",
        "    a = int(input())\n",
        "print(num)"
      ],
      "metadata": {
        "id": "iSEt2ebH_nz2"
      },
      "execution_count": null,
      "outputs": []
    },
    {
      "cell_type": "markdown",
      "source": [
        "**Количество пятерок**\n",
        "\n",
        "На вход программе подается последовательность целых чисел от 1 до 5, характеризующее оценку ученика, каждое число на отдельной строке. Концом последовательности является любое отрицательное число, либо число большее 5. Напишите программу, которая выводит количество пятерок. Формат входных данных На вход программе подается последовательность чисел, каждое число на отдельной строке. Формат выходных данных Программа должна вывести количество пятерок."
      ],
      "metadata": {
        "id": "QNHCtOeP_qfe"
      }
    },
    {
      "cell_type": "code",
      "source": [
        "mark = int(input())\n",
        "count = 0\n",
        "if mark == 5:\n",
        "       count += 1\n",
        "while (mark<=5 and mark>0):\n",
        "   mark = int(input())\n",
        "   if mark == 5:\n",
        "       count += 1\n",
        "print(count)"
      ],
      "metadata": {
        "id": "ns0noGLD_ss2"
      },
      "execution_count": null,
      "outputs": []
    },
    {
      "cell_type": "markdown",
      "source": [
        "**Ведьмаку заплатите чеканной монетой**\n",
        "\n",
        "Всем известно, что ведьмак способен одолеть любых чудовищ, однако его услуги обойдутся недешево, к тому же ведьмак не принимает купюры, он принимает только чеканные монеты. В мире ведьмака существуют монеты с номиналами 1, 5, 10, 25.\n",
        "\n",
        "Напишите программу, которая определяет какое минимальное количество чеканных монет нужно заплатить ведьмаку. Формат входных данных На вход программе подается одно натуральное число, цена за услугу ведьмака. Формат выходных данных Программа должна вывести минимально возможное количество чеканных монет для оплаты."
      ],
      "metadata": {
        "id": "NYJw9hc9_zD9"
      }
    },
    {
      "cell_type": "code",
      "source": [
        "money = int(input())\n",
        "total_coins = 0\n",
        "while money > 0:\n",
        "  if money >= 25:\n",
        "    money -= 25\n",
        "  elif money >=10:\n",
        "    money -= 10\n",
        "  elif money >= 5:\n",
        "    money -= 5\n",
        "  else:\n",
        "    money -= 1\n",
        "  total_coins += 1\n",
        "print(f\"Ведьмаку можно дать {total_coins} монет\")"
      ],
      "metadata": {
        "id": "rhhMNzMd_0NN"
      },
      "execution_count": null,
      "outputs": []
    },
    {
      "cell_type": "markdown",
      "source": [
        "# 28.10.2022"
      ],
      "metadata": {
        "id": "uQUPjmzZ_3S4"
      }
    },
    {
      "cell_type": "code",
      "source": [],
      "metadata": {
        "id": "JTjNsBJs_5nn"
      },
      "execution_count": null,
      "outputs": []
    },
    {
      "cell_type": "markdown",
      "source": [
        "Напишем программу, которая считывает натуральное число (целое положительное) и обрабатывает его цифры"
      ],
      "metadata": {
        "id": "8sAzTDBM_7uu"
      }
    },
    {
      "cell_type": "code",
      "source": [
        "n = int(input())\n",
        "while n != 0:  # пока в числе есть цифры\n",
        "    last_digit = n % 10  # получить последнюю цифру\n",
        "    # код обработки последней цифры\n",
        "    n = n // 10  # удалить последнюю цифру из числа\n",
        "    print(last_digit)"
      ],
      "metadata": {
        "id": "PvPidg0b__fN"
      },
      "execution_count": null,
      "outputs": []
    },
    {
      "cell_type": "markdown",
      "source": [
        "Чтобы изменить содержимое ячейки, дважды нажмите на нее (или выберите \"Ввод\")"
      ],
      "metadata": {
        "id": "KGc1k3NPAC01"
      }
    },
    {
      "cell_type": "code",
      "source": [
        "num = int(input())\n",
        "has_seven = False  # сигнальная метка\n",
        "while num != 0:\n",
        "    last_digit = num % 10\n",
        "    if last_digit == 7:\n",
        "        has_seven = True\n",
        "    num = num // 10\n",
        "if has_seven == True:\n",
        "    print('YES')\n",
        "else:\n",
        "    print('NO')"
      ],
      "metadata": {
        "id": "oFjJxnaUAFM1"
      },
      "execution_count": null,
      "outputs": []
    },
    {
      "cell_type": "code",
      "source": [
        "#1\n",
        "num = 12345\n",
        "product = 1\n",
        "while num != 0:\n",
        "    last_digit = num % 10\n",
        "    product = product * last_digit\n",
        "    num = num // 10\n",
        "print(product)\n"
      ],
      "metadata": {
        "id": "lSfHye46AIEQ"
      },
      "execution_count": null,
      "outputs": []
    },
    {
      "cell_type": "code",
      "source": [
        "num = 123456789\n",
        "total = 0\n",
        "while num != 0:\n",
        "    last_digit = num % 10\n",
        "    if last_digit > 4:\n",
        "        total += 1\n",
        "    num = num // 10\n",
        "print(total)"
      ],
      "metadata": {
        "id": "6Z5TJajiAJqt"
      },
      "execution_count": null,
      "outputs": []
    },
    {
      "cell_type": "code",
      "source": [
        "num = 12345\n",
        "while num!= 0:\n",
        "  total = num%"
      ],
      "metadata": {
        "id": "ZhSKFUBnANAd"
      },
      "execution_count": null,
      "outputs": []
    }
  ]
}